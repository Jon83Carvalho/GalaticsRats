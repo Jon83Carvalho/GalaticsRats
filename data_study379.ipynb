{
 "cells": [
  {
   "cell_type": "code",
   "execution_count": 1,
   "metadata": {},
   "outputs": [],
   "source": [
    "import pandas as pd\n",
    "import matplotlib.pyplot as plt\n",
    "import seaborn as sns\n",
    "import os"
   ]
  },
  {
   "cell_type": "code",
   "execution_count": null,
   "metadata": {},
   "outputs": [],
   "source": [
    "# Define the path to the data folder\n",
    "data_folder = 'dados'\n",
    "\n",
    "# Read the CSV files\n",
    "osd_379_assays = pd.read_csv(os.path.join(data_folder, 'OSD-379-assays.csv'))\n",
    "osd_379_samples = pd.read_csv(os.path.join(data_folder, 'OSD-379-samples.csv'))\n",
    "osd_665_assays = pd.read_csv(os.path.join(data_folder, 'OSD-665-assays.csv'))\n",
    "osd_665_samples = pd.read_csv(os.path.join(data_folder, 'OSD-665-samples.csv'))\n",
    "\n",
    "# Display the first few rows of each dataframe\n",
    "print(\"OSD-379 Assays:\")\n",
    "print(osd_379_assays.head())\n",
    "print(\"\\nOSD-379 Samples:\")\n",
    "print(osd_379_samples.head())\n",
    "print(\"\\nOSD-665 Assays:\")\n",
    "print(osd_665_assays.head())\n",
    "print(\"\\nOSD-665 Samples:\")\n",
    "print(osd_665_samples.head())\n",
    "\n"
   ]
  },
  {
   "cell_type": "code",
   "execution_count": 6,
   "metadata": {},
   "outputs": [],
   "source": [
    "# Split the \"Parameter Value: QA Score\" column and extract the numerical value\n",
    "osd_379_assays['QA Score'] = osd_379_assays['Parameter Value: QA Score'].str.extract(r'(\\d+\\.?\\d*)').astype(float)"
   ]
  },
  {
   "cell_type": "code",
   "execution_count": 7,
   "metadata": {},
   "outputs": [
    {
     "data": {
      "text/plain": [
       "0      4.9\n",
       "1      5.6\n",
       "2      6.6\n",
       "3      5.5\n",
       "4      5.7\n",
       "5      5.7\n",
       "6      4.7\n",
       "7      6.0\n",
       "8      5.1\n",
       "9      4.7\n",
       "10     5.2\n",
       "11     6.1\n",
       "12     6.5\n",
       "13     5.5\n",
       "14     4.6\n",
       "15     7.6\n",
       "16     5.9\n",
       "17     6.7\n",
       "18     6.1\n",
       "19    10.0\n",
       "20     9.9\n",
       "21     9.0\n",
       "22     9.6\n",
       "23     9.2\n",
       "24     9.8\n",
       "Name: QA Score, dtype: float64"
      ]
     },
     "execution_count": 7,
     "metadata": {},
     "output_type": "execute_result"
    }
   ],
   "source": [
    "osd_379_assays['QA Score']"
   ]
  },
  {
   "cell_type": "code",
   "execution_count": 4,
   "metadata": {},
   "outputs": [
    {
     "data": {
      "text/plain": [
       "Sample Name                                            object\n",
       "Protocol REF                                           object\n",
       "Parameter Value: QA Instrument                         object\n",
       "Parameter Value: QA Assay                              object\n",
       "Parameter Value: QA Score                              object\n",
       "Unit                                                   object\n",
       "Term Source REF                                        object\n",
       "Term Accession Number                                  object\n",
       "Extract Name                                           object\n",
       "Protocol REF.1                                         object\n",
       "Parameter Value: Spike-in Quality Control              object\n",
       "Term Source REF.1                                     float64\n",
       "Term Accession Number.1                               float64\n",
       "Parameter Value: Spike-in Mix Number                   object\n",
       "Term Source REF.2                                     float64\n",
       "Term Accession Number.2                               float64\n",
       "Protocol REF.2                                         object\n",
       "Parameter Value: library selection                     object\n",
       "Parameter Value: library layout                        object\n",
       "Parameter Value: stranded                              object\n",
       "Parameter Value: Library QA Instrument                 object\n",
       "Term Source REF.3                                     float64\n",
       "Term Accession Number.3                               float64\n",
       "Parameter Value: Library QA Assay                      object\n",
       "Term Source REF.4                                     float64\n",
       "Term Accession Number.4                               float64\n",
       "Parameter Value: Fragment Size                         object\n",
       "Unit.1                                                 object\n",
       "Term Source REF.5                                      object\n",
       "Term Accession Number.5                                object\n",
       "Comment: Library Prep Date                             object\n",
       "Protocol REF.3                                         object\n",
       "Parameter Value: sequencing instrument                 object\n",
       "Parameter Value: Read Length                           object\n",
       "Unit.2                                                 object\n",
       "Term Source REF.6                                      object\n",
       "Term Accession Number.6                                object\n",
       "Parameter Value: base caller                           object\n",
       "Assay Name                                             object\n",
       "Raw Data File                                          object\n",
       "Protocol REF.4                                         object\n",
       "Parameter Value: rRNA Contamination                    object\n",
       "Unit.3                                                 object\n",
       "Term Source REF.7                                      object\n",
       "Term Accession Number.7                                object\n",
       "Parameter Value: Read Depth                            object\n",
       "Unit.4                                                 object\n",
       "Term Source REF.8                                      object\n",
       "Term Accession Number.8                                object\n",
       "Parameter Value: Raw sequence data/MultiQC Reports     object\n",
       "dtype: object"
      ]
     },
     "execution_count": 4,
     "metadata": {},
     "output_type": "execute_result"
    }
   ],
   "source": [
    "osd_379_assays.dtypes"
   ]
  },
  {
   "cell_type": "code",
   "execution_count": 10,
   "metadata": {},
   "outputs": [
    {
     "data": {
      "image/png": "[encoded data removed]",
      "text/plain": [
       "<Figure size 720x432 with 1 Axes>"
      ]
     },
     "metadata": {
      "needs_background": "light"
     },
     "output_type": "display_data"
    }
   ],
   "source": [
    "# Create a histogram using seaborn\n",
    "plt.figure(figsize=(10, 6))\n",
    "ax = sns.histplot(osd_379_assays['QA Score'], kde=True)\n",
    "\n",
    "# Annotate each bar with its height\n",
    "for p in ax.patches:\n",
    "    height = p.get_height()\n",
    "    ax.annotate(f'{height:.0f}', \n",
    "                xy=(p.get_x() + p.get_width() / 2, height), \n",
    "                xytext=(0, 5),  # 5 points vertical offset\n",
    "                textcoords='offset points', \n",
    "                ha='center', va='bottom')\n",
    "\n",
    "plt.title('Distribution of QA Score')\n",
    "plt.xlabel('QA Score')\n",
    "plt.ylabel('Frequency')\n",
    "plt.show()"
   ]
  },
  {
   "cell_type": "code",
   "execution_count": 11,
   "metadata": {},
   "outputs": [
    {
     "data": {
      "text/plain": [
       "25"
      ]
     },
     "execution_count": 11,
     "metadata": {},
     "output_type": "execute_result"
    }
   ],
   "source": [
    "len(osd_379_assays['QA Score'])"
   ]
  },
  {
   "cell_type": "code",
   "execution_count": null,
   "metadata": {},
   "outputs": [],
   "source": [
    "# Example visualization: Distribution of a column in OSD-379 assays\n",
    "plt.figure(figsize=(10, 6))\n",
    "sns.histplot(osd_379_assays['column_name'], kde=True)\n",
    "plt.title('Distribution of Column Name in OSD-379 Assays')\n",
    "plt.xlabel('Column Name')\n",
    "plt.ylabel('Frequency')\n",
    "plt.show()\n",
    "\n",
    "# Example visualization: Scatter plot between two columns in OSD-665 samples\n",
    "plt.figure(figsize=(10, 6))\n",
    "sns.scatterplot(x='column_x', y='column_y', data=osd_665_samples)\n",
    "plt.title('Scatter Plot between Column X and Column Y in OSD-665 Samples')\n",
    "plt.xlabel('Column X')\n",
    "plt.ylabel('Column Y')\n",
    "plt.show()"
   ]
  }
 ],
 "metadata": {
  "kernelspec": {
   "display_name": "base",
   "language": "python",
   "name": "python3"
  },
  "language_info": {
   "codemirror_mode": {
    "name": "ipython",
    "version": 3
   },
   "file_extension": ".py",
   "mimetype": "text/x-python",
   "name": "python",
   "nbconvert_exporter": "python",
   "pygments_lexer": "ipython3",
   "version": "3.8.8"
  }
 },
 "nbformat": 4,
 "nbformat_minor": 2
}
