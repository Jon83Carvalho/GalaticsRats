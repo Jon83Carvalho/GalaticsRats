{
 "cells": [
  {
   "cell_type": "code",
   "execution_count": 4,
   "metadata": {},
   "outputs": [
    {
     "name": "stdout",
     "output_type": "stream",
     "text": [
      "  Source Name                 Sample Name Characteristics[Organism]  \\\n",
      "0    RR-23_F1  RR23_R-EDL_FLT_F1_techrep1              Mus musculus   \n",
      "1    RR-23_F1  RR23_R-EDL_FLT_F1_techrep2              Mus musculus   \n",
      "2    RR-23_F2           RR23_R-EDL_FLT_F2              Mus musculus   \n",
      "3    RR-23_F3           RR23_R-EDL_FLT_F3              Mus musculus   \n",
      "4    RR-23_F4           RR23_R-EDL_FLT_F4              Mus musculus   \n",
      "\n",
      "  Term Source REF                              Term Accession Number  \\\n",
      "0       NCBITAXON  http://purl.bioontology.org/ontology/NCBITAXON...   \n",
      "1       NCBITAXON  http://purl.bioontology.org/ontology/NCBITAXON...   \n",
      "2       NCBITAXON  http://purl.bioontology.org/ontology/NCBITAXON...   \n",
      "3       NCBITAXON  http://purl.bioontology.org/ontology/NCBITAXON...   \n",
      "4       NCBITAXON  http://purl.bioontology.org/ontology/NCBITAXON...   \n",
      "\n",
      "  Characteristics[Strain] Term Source REF.1  \\\n",
      "0                C57BL/6J               EFO   \n",
      "1                C57BL/6J               EFO   \n",
      "2                C57BL/6J               EFO   \n",
      "3                C57BL/6J               EFO   \n",
      "4                C57BL/6J               EFO   \n",
      "\n",
      "                Term Accession Number.1 Characteristics[Animal Source]  \\\n",
      "0  http://www.ebi.ac.uk/efo/EFO_0000606             Jackson Laboratory   \n",
      "1  http://www.ebi.ac.uk/efo/EFO_0000606             Jackson Laboratory   \n",
      "2  http://www.ebi.ac.uk/efo/EFO_0000606             Jackson Laboratory   \n",
      "3  http://www.ebi.ac.uk/efo/EFO_0000606             Jackson Laboratory   \n",
      "4  http://www.ebi.ac.uk/efo/EFO_0000606             Jackson Laboratory   \n",
      "\n",
      "  Characteristics[Genotype]  ... Term Source REF.11  \\\n",
      "0                 Wild Type  ...                 UO   \n",
      "1                 Wild Type  ...                 UO   \n",
      "2                 Wild Type  ...                 UO   \n",
      "3                 Wild Type  ...                 UO   \n",
      "4                 Wild Type  ...                 UO   \n",
      "\n",
      "                    Term Accession Number.11  \\\n",
      "0  http://purl.obolibrary.org/obo/UO_0000027   \n",
      "1  http://purl.obolibrary.org/obo/UO_0000027   \n",
      "2  http://purl.obolibrary.org/obo/UO_0000027   \n",
      "3  http://purl.obolibrary.org/obo/UO_0000027   \n",
      "4  http://purl.obolibrary.org/obo/UO_0000027   \n",
      "\n",
      "  Parameter Value[Body Weight upon Euthanasia] Unit.4 Term Source REF.12  \\\n",
      "0                                         35.9   gram                 UO   \n",
      "1                                         35.9   gram                 UO   \n",
      "2                                         35.9   gram                 UO   \n",
      "3                                         33.5   gram                 UO   \n",
      "4                                         27.3   gram                 UO   \n",
      "\n",
      "                    Term Accession Number.12 Comment[Euthanasia Date]  \\\n",
      "0  http://purl.obolibrary.org/obo/UO_0000021              14-Jan-2021   \n",
      "1  http://purl.obolibrary.org/obo/UO_0000021              14-Jan-2021   \n",
      "2  http://purl.obolibrary.org/obo/UO_0000021              14-Jan-2021   \n",
      "3  http://purl.obolibrary.org/obo/UO_0000021              14-Jan-2021   \n",
      "4  http://purl.obolibrary.org/obo/UO_0000021              14-Jan-2021   \n",
      "\n",
      "  Comment[Source Description] Comment[ALSDA Subject ID]  \\\n",
      "0          Live animal return                       741   \n",
      "1          Live animal return                       741   \n",
      "2          Live animal return                       741   \n",
      "3          Live animal return                       741   \n",
      "4          Live animal return                       741   \n",
      "\n",
      "  Comment[RFID (last 4 digit)]  \n",
      "0                         4664  \n",
      "1                         4664  \n",
      "2                         4664  \n",
      "3                         4A2E  \n",
      "4                         5F2B  \n",
      "\n",
      "[5 rows x 58 columns]\n"
     ]
    }
   ],
   "source": [
    "import pandas as pd\n",
    "\n",
    "# Define the path to the data file\n",
    "file_path = 'dados/s_OSD-665.txt'\n",
    "\n",
    "# Read the file with tab separator\n",
    "osd_665_meta = pd.read_csv(file_path, sep='\\t')\n",
    "\n",
    "# Display the first few rows of the DataFrame\n",
    "print(osd_665_meta.head())"
   ]
  },
  {
   "cell_type": "code",
   "execution_count": null,
   "metadata": {},
   "outputs": [],
   "source": [
    "osd_665_meta['Ter']"
   ]
  }
 ],
 "metadata": {
  "kernelspec": {
   "display_name": "base",
   "language": "python",
   "name": "python3"
  },
  "language_info": {
   "codemirror_mode": {
    "name": "ipython",
    "version": 3
   },
   "file_extension": ".py",
   "mimetype": "text/x-python",
   "name": "python",
   "nbconvert_exporter": "python",
   "pygments_lexer": "ipython3",
   "version": "3.8.8"
  }
 },
 "nbformat": 4,
 "nbformat_minor": 2
}
