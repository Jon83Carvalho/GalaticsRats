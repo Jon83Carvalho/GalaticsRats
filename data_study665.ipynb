{
 "cells": [
  {
   "cell_type": "code",
   "execution_count": 1,
   "metadata": {},
   "outputs": [],
   "source": [
    "import pandas as pd\n",
    "import matplotlib.pyplot as plt\n",
    "import seaborn as sns\n",
    "import os"
   ]
  },
  {
   "cell_type": "code",
   "execution_count": 3,
   "metadata": {},
   "outputs": [
    {
     "name": "stdout",
     "output_type": "stream",
     "text": [
      "\n",
      "OSD-665 Assays:\n",
      "                  Sample Name             Protocol REF  \\\n",
      "0  RR23_R-EDL_FLT_F1_techrep1  Nucleic Acid Extraction   \n",
      "1  RR23_R-EDL_FLT_F1_techrep2  Nucleic Acid Extraction   \n",
      "2           RR23_R-EDL_FLT_F2  Nucleic Acid Extraction   \n",
      "3           RR23_R-EDL_FLT_F3  Nucleic Acid Extraction   \n",
      "4           RR23_R-EDL_FLT_F4  Nucleic Acid Extraction   \n",
      "\n",
      "  Parameter Value: QA Instrument     Parameter Value: QA Assay  \\\n",
      "0       Agilent 4200 TapeStation  Agilent RNA ScreenTape Assay   \n",
      "1       Agilent 4200 TapeStation  Agilent RNA ScreenTape Assay   \n",
      "2       Agilent 4200 TapeStation  Agilent RNA ScreenTape Assay   \n",
      "3       Agilent 4200 TapeStation  Agilent RNA ScreenTape Assay   \n",
      "4       Agilent 4200 TapeStation  Agilent RNA ScreenTape Assay   \n",
      "\n",
      "  Parameter Value: QA Score                Extract Name     Protocol REF.1  \\\n",
      "0                  8.5 RINe  RR23_R-EDL_FLT_F1_techrep1  Spike-in Protocol   \n",
      "1                  8.5 RINe  RR23_R-EDL_FLT_F1_techrep2  Spike-in Protocol   \n",
      "2                  8.4 RINe           RR23_R-EDL_FLT_F2  Spike-in Protocol   \n",
      "3                  8.5 RINe           RR23_R-EDL_FLT_F3  Spike-in Protocol   \n",
      "4                  8.4 RINe           RR23_R-EDL_FLT_F4  Spike-in Protocol   \n",
      "\n",
      "  Parameter Value: Spike-in Quality Control  \\\n",
      "0              ERCC ExFold RNA Spike-In Mix   \n",
      "1              ERCC ExFold RNA Spike-In Mix   \n",
      "2              ERCC ExFold RNA Spike-In Mix   \n",
      "3              ERCC ExFold RNA Spike-In Mix   \n",
      "4              ERCC ExFold RNA Spike-In Mix   \n",
      "\n",
      "  Parameter Value: Spike-in Mix Number        Protocol REF.2  ...  \\\n",
      "0                                Mix 1  Library Construction  ...   \n",
      "1                                Mix 1  Library Construction  ...   \n",
      "2                                Mix 1  Library Construction  ...   \n",
      "3                                Mix 1  Library Construction  ...   \n",
      "4                                Mix 1  Library Construction  ...   \n",
      "\n",
      "            Protocol REF.3 Parameter Value: Sequencing Instrument  \\\n",
      "0  Nucleic Acid Sequencing                  Illumina NovaSeq 6000   \n",
      "1  Nucleic Acid Sequencing                  Illumina NovaSeq 6000   \n",
      "2  Nucleic Acid Sequencing                  Illumina NovaSeq 6000   \n",
      "3  Nucleic Acid Sequencing                  Illumina NovaSeq 6000   \n",
      "4  Nucleic Acid Sequencing                  Illumina NovaSeq 6000   \n",
      "\n",
      "  Parameter Value: Base Caller Parameter Value: Read Length Assay Name  \\\n",
      "0                    bcl2fastq                151 base pair    RNA-Seq   \n",
      "1                    bcl2fastq                151 base pair    RNA-Seq   \n",
      "2                    bcl2fastq                151 base pair    RNA-Seq   \n",
      "3                    bcl2fastq                151 base pair    RNA-Seq   \n",
      "4                    bcl2fastq                151 base pair    RNA-Seq   \n",
      "\n",
      "                                       Raw Data File  \\\n",
      "0  GLDS-604_rna-seq_RR23_R-EDL_FLT_F1_techrep1_R1...   \n",
      "1  GLDS-604_rna-seq_RR23_R-EDL_FLT_F1_techrep2_R1...   \n",
      "2  GLDS-604_rna-seq_RR23_R-EDL_FLT_F2_R1_raw.fast...   \n",
      "3  GLDS-604_rna-seq_RR23_R-EDL_FLT_F3_R1_raw.fast...   \n",
      "4  GLDS-604_rna-seq_RR23_R-EDL_FLT_F4_R1_raw.fast...   \n",
      "\n",
      "                         Protocol REF.4 Parameter Value: Read Depth  \\\n",
      "0  GeneLab raw data processing protocol               92435321 read   \n",
      "1  GeneLab raw data processing protocol              114136037 read   \n",
      "2  GeneLab raw data processing protocol               94177785 read   \n",
      "3  GeneLab raw data processing protocol              101168454 read   \n",
      "4  GeneLab raw data processing protocol               94696022 read   \n",
      "\n",
      "  Parameter Value: rRNA Contamination  \\\n",
      "0                        0.54 percent   \n",
      "1                        0.36 percent   \n",
      "2                         0.3 percent   \n",
      "3                         0.3 percent   \n",
      "4                        0.35 percent   \n",
      "\n",
      "                 Parameter Value: MultiQC File Names  \n",
      "0  GLDS-604_rna_seq_raw_multiqc_report_GLbulkRNAs...  \n",
      "1  GLDS-604_rna_seq_raw_multiqc_report_GLbulkRNAs...  \n",
      "2  GLDS-604_rna_seq_raw_multiqc_report_GLbulkRNAs...  \n",
      "3  GLDS-604_rna_seq_raw_multiqc_report_GLbulkRNAs...  \n",
      "4  GLDS-604_rna_seq_raw_multiqc_report_GLbulkRNAs...  \n",
      "\n",
      "[5 rows x 27 columns]\n",
      "\n",
      "OSD-665 Samples:\n",
      "  Source Name                 Sample Name Characteristics: Organism  \\\n",
      "0    RR-23_F1  RR23_R-EDL_FLT_F1_techrep1              Mus musculus   \n",
      "1    RR-23_F1  RR23_R-EDL_FLT_F1_techrep2              Mus musculus   \n",
      "2    RR-23_F2           RR23_R-EDL_FLT_F2              Mus musculus   \n",
      "3    RR-23_F3           RR23_R-EDL_FLT_F3              Mus musculus   \n",
      "4    RR-23_F4           RR23_R-EDL_FLT_F4              Mus musculus   \n",
      "\n",
      "  Characteristics: Strain Characteristics: Animal Source  \\\n",
      "0                C57BL/6J             Jackson Laboratory   \n",
      "1                C57BL/6J             Jackson Laboratory   \n",
      "2                C57BL/6J             Jackson Laboratory   \n",
      "3                C57BL/6J             Jackson Laboratory   \n",
      "4                C57BL/6J             Jackson Laboratory   \n",
      "\n",
      "  Characteristics: Genotype   Characteristics: Material Type  \\\n",
      "0                 Wild Type  Right extensor digitorum longus   \n",
      "1                 Wild Type  Right extensor digitorum longus   \n",
      "2                 Wild Type  Right extensor digitorum longus   \n",
      "3                 Wild Type  Right extensor digitorum longus   \n",
      "4                 Wild Type  Right extensor digitorum longus   \n",
      "\n",
      "  Factor Value: Spaceflight Characteristics: Age at Launch  \\\n",
      "0              Space Flight                     16-17 week   \n",
      "1              Space Flight                     16-17 week   \n",
      "2              Space Flight                     16-17 week   \n",
      "3              Space Flight                     16-17 week   \n",
      "4              Space Flight                     16-17 week   \n",
      "\n",
      "  Characteristics: Sex  ...     Protocol REF.1  \\\n",
      "0                 Male  ...  sample collection   \n",
      "1                 Male  ...  sample collection   \n",
      "2                 Male  ...  sample collection   \n",
      "3                 Male  ...  sample collection   \n",
      "4                 Male  ...  sample collection   \n",
      "\n",
      "                  Parameter Value: Euthanasia Method  \\\n",
      "0  Bilateral thoracotomy with sedation, Cardiac p...   \n",
      "1  Bilateral thoracotomy with sedation, Cardiac p...   \n",
      "2  Bilateral thoracotomy with sedation, Cardiac p...   \n",
      "3  Bilateral thoracotomy with sedation, Cardiac p...   \n",
      "4  Bilateral thoracotomy with sedation, Cardiac p...   \n",
      "\n",
      "  Parameter Value: Age at Euthanasia  \\\n",
      "0                         22-23 week   \n",
      "1                         22-23 week   \n",
      "2                         22-23 week   \n",
      "3                         22-23 week   \n",
      "4                         22-23 week   \n",
      "\n",
      "  Parameter Value: Sample Preservation Method  \\\n",
      "0                             Liquid Nitrogen   \n",
      "1                             Liquid Nitrogen   \n",
      "2                             Liquid Nitrogen   \n",
      "3                             Liquid Nitrogen   \n",
      "4                             Liquid Nitrogen   \n",
      "\n",
      "  Parameter Value: Sample Storage Temperature  \\\n",
      "0                          -80 degree Celsius   \n",
      "1                          -80 degree Celsius   \n",
      "2                          -80 degree Celsius   \n",
      "3                          -80 degree Celsius   \n",
      "4                          -80 degree Celsius   \n",
      "\n",
      "  Parameter Value: Body Weight upon Euthanasia Comment: Euthanasia Date  \\\n",
      "0                                    35.9 gram              14-Jan-2021   \n",
      "1                                    35.9 gram              14-Jan-2021   \n",
      "2                                    35.9 gram              14-Jan-2021   \n",
      "3                                    33.5 gram              14-Jan-2021   \n",
      "4                                    27.3 gram              14-Jan-2021   \n",
      "\n",
      "  Comment: Source Description Comment: ALSDA Subject ID  \\\n",
      "0          Live animal return                       741   \n",
      "1          Live animal return                       741   \n",
      "2          Live animal return                       741   \n",
      "3          Live animal return                       741   \n",
      "4          Live animal return                       741   \n",
      "\n",
      "  Comment: RFID (last 4 digit)  \n",
      "0                         4664  \n",
      "1                         4664  \n",
      "2                         4664  \n",
      "3                         4A2E  \n",
      "4                         5F2B  \n",
      "\n",
      "[5 rows x 27 columns]\n"
     ]
    }
   ],
   "source": [
    "# Define the path to the data folder\n",
    "data_folder = 'dados'\n",
    "\n",
    "# Read the CSV files\n",
    "#osd_379_assays = pd.read_csv(os.path.join(data_folder, 'OSD-379-assays.csv'))\n",
    "#osd_379_samples = pd.read_csv(os.path.join(data_folder, 'OSD-379-samples.csv'))\n",
    "osd_665_assays = pd.read_csv(os.path.join(data_folder, 'OSD-665-assays.csv'))\n",
    "osd_665_samples = pd.read_csv(os.path.join(data_folder, 'OSD-665-samples.csv'))\n",
    "\n",
    "# Display the first few rows of each dataframe\n",
    "# print(\"OSD-379 Assays:\")\n",
    "# print(osd_379_assays.head())\n",
    "# print(\"\\nOSD-379 Samples:\")\n",
    "# print(osd_379_samples.head())\n",
    "print(\"\\nOSD-665 Assays:\")\n",
    "print(osd_665_assays.head())\n",
    "print(\"\\nOSD-665 Samples:\")\n",
    "print(osd_665_samples.head())\n",
    "\n"
   ]
  },
  {
   "cell_type": "code",
   "execution_count": 4,
   "metadata": {},
   "outputs": [],
   "source": [
    "# Split the \"Parameter Value: QA Score\" column and extract the numerical value\n",
    "osd_665_assays['QA Score'] = osd_665_assays['Parameter Value: QA Score'].str.extract(r'(\\d+\\.?\\d*)').astype(float)"
   ]
  },
  {
   "cell_type": "code",
   "execution_count": 5,
   "metadata": {},
   "outputs": [
    {
     "data": {
      "text/plain": [
       "0     8.5\n",
       "1     8.5\n",
       "2     8.4\n",
       "3     8.5\n",
       "4     8.4\n",
       "5     9.1\n",
       "6     8.4\n",
       "7     8.6\n",
       "8     8.6\n",
       "9     8.6\n",
       "10    8.4\n",
       "11    8.4\n",
       "12    8.4\n",
       "13    8.6\n",
       "14    8.5\n",
       "15    8.3\n",
       "16    8.6\n",
       "17    8.8\n",
       "18    8.6\n",
       "19    8.6\n",
       "20    8.7\n",
       "21    8.7\n",
       "22    8.6\n",
       "23    8.4\n",
       "24    8.6\n",
       "Name: QA Score, dtype: float64"
      ]
     },
     "execution_count": 5,
     "metadata": {},
     "output_type": "execute_result"
    }
   ],
   "source": []
  },
  {
   "cell_type": "code",
   "execution_count": 6,
   "metadata": {},
   "outputs": [
    {
     "data": {
      "text/plain": [
       "Sample Name                                   object\n",
       "Protocol REF                                  object\n",
       "Parameter Value: QA Instrument                object\n",
       "Parameter Value: QA Assay                     object\n",
       "Parameter Value: QA Score                     object\n",
       "Extract Name                                  object\n",
       "Protocol REF.1                                object\n",
       "Parameter Value: Spike-in Quality Control     object\n",
       "Parameter Value: Spike-in Mix Number          object\n",
       "Protocol REF.2                                object\n",
       "Parameter Value: Library Selection            object\n",
       "Parameter Value: Library Layout               object\n",
       "Parameter Value: Stranded                     object\n",
       "Parameter Value: Library QA Instrument        object\n",
       "Parameter Value: Library QA Assay             object\n",
       "Parameter Value: Fragment Size                object\n",
       "Parameter Value: Library Batch Number         object\n",
       "Protocol REF.3                                object\n",
       "Parameter Value: Sequencing Instrument        object\n",
       "Parameter Value: Base Caller                  object\n",
       "Parameter Value: Read Length                  object\n",
       "Assay Name                                    object\n",
       "Raw Data File                                 object\n",
       "Protocol REF.4                                object\n",
       "Parameter Value: Read Depth                   object\n",
       "Parameter Value: rRNA Contamination           object\n",
       "Parameter Value: MultiQC File Names           object\n",
       "QA Score                                     float64\n",
       "dtype: object"
      ]
     },
     "execution_count": 6,
     "metadata": {},
     "output_type": "execute_result"
    }
   ],
   "source": [
    "osd_665_assays.dtypes"
   ]
  },
  {
   "cell_type": "code",
   "execution_count": 7,
   "metadata": {},
   "outputs": [
    {
     "data": {
      "image/png": "[encoded data removed]",
      "text/plain": [
       "<Figure size 720x432 with 1 Axes>"
      ]
     },
     "metadata": {
      "needs_background": "light"
     },
     "output_type": "display_data"
    }
   ],
   "source": [
    "# Create a histogram using seaborn\n",
    "plt.figure(figsize=(10, 6))\n",
    "ax = sns.histplot(osd_665_assays['QA Score'], kde=True)\n",
    "\n",
    "# Annotate each bar with its height\n",
    "for p in ax.patches:\n",
    "    height = p.get_height()\n",
    "    ax.annotate(f'{height:.0f}', \n",
    "                xy=(p.get_x() + p.get_width() / 2, height), \n",
    "                xytext=(0, 5),  # 5 points vertical offset\n",
    "                textcoords='offset points', \n",
    "                ha='center', va='bottom')\n",
    "\n",
    "plt.title('Distribution of QA Score')\n",
    "plt.xlabel('QA Score')\n",
    "plt.ylabel('Frequency')\n",
    "plt.show()"
   ]
  },
  {
   "cell_type": "code",
   "execution_count": 8,
   "metadata": {},
   "outputs": [
    {
     "data": {
      "text/plain": [
       "25"
      ]
     },
     "execution_count": 8,
     "metadata": {},
     "output_type": "execute_result"
    }
   ],
   "source": [
    "len(osd_665_assays['QA Score'])"
   ]
  },
  {
   "cell_type": "code",
   "execution_count": 9,
   "metadata": {},
   "outputs": [
    {
     "name": "stdout",
     "output_type": "stream",
     "text": [
      "\n",
      "Columns with timeline information:\n",
      "[]\n"
     ]
    }
   ],
   "source": [
    "# Check for columns with date or time-related data\n",
    "timeline_columns = []\n",
    "for column in osd_665_assays.columns:\n",
    "    if 'date' in column.lower() or 'time' in column.lower() or 'year' in column.lower():\n",
    "        timeline_columns.append(column)\n",
    "    elif pd.api.types.is_datetime64_any_dtype(osd_665_assays[column]):\n",
    "        timeline_columns.append(column)\n",
    "\n",
    "print(\"\\nColumns with timeline information:\")\n",
    "print(timeline_columns)"
   ]
  },
  {
   "cell_type": "code",
   "execution_count": 10,
   "metadata": {},
   "outputs": [
    {
     "data": {
      "text/plain": [
       "25"
      ]
     },
     "execution_count": 10,
     "metadata": {},
     "output_type": "execute_result"
    }
   ],
   "source": [
    "len(osd_665_assays)"
   ]
  },
  {
   "cell_type": "code",
   "execution_count": 11,
   "metadata": {},
   "outputs": [
    {
     "name": "stdout",
     "output_type": "stream",
     "text": [
      "              Protocol REF     Protocol REF.1        Protocol REF.2  \\\n",
      "0  Nucleic Acid Extraction  Spike-in Protocol  Library Construction   \n",
      "1  Nucleic Acid Extraction  Spike-in Protocol  Library Construction   \n",
      "2  Nucleic Acid Extraction  Spike-in Protocol  Library Construction   \n",
      "3  Nucleic Acid Extraction  Spike-in Protocol  Library Construction   \n",
      "4  Nucleic Acid Extraction  Spike-in Protocol  Library Construction   \n",
      "\n",
      "            Protocol REF.3                        Protocol REF.4  \n",
      "0  Nucleic Acid Sequencing  GeneLab raw data processing protocol  \n",
      "1  Nucleic Acid Sequencing  GeneLab raw data processing protocol  \n",
      "2  Nucleic Acid Sequencing  GeneLab raw data processing protocol  \n",
      "3  Nucleic Acid Sequencing  GeneLab raw data processing protocol  \n",
      "4  Nucleic Acid Sequencing  GeneLab raw data processing protocol  \n"
     ]
    }
   ],
   "source": [
    "# Filter columns that contain \"Protocol REF\" and do not mention \"parameters\"\n",
    "filtered_columns = [col for col in osd_665_assays.columns if \"Protocol REF\" in col and \"parameters\" not in col]\n",
    "\n",
    "# Create a new DataFrame with the filtered columns\n",
    "filtered_df = osd_665_assays[filtered_columns]\n",
    "\n",
    "# Display the first few rows of the filtered DataFrame\n",
    "print(filtered_df.head())"
   ]
  },
  {
   "cell_type": "code",
   "execution_count": 15,
   "metadata": {},
   "outputs": [
    {
     "name": "stdout",
     "output_type": "stream",
     "text": [
      "['Library Construction']\n"
     ]
    }
   ],
   "source": [
    "print(filtered_df['Protocol REF.2'].unique())"
   ]
  },
  {
   "cell_type": "code",
   "execution_count": null,
   "metadata": {},
   "outputs": [],
   "source": []
  }
 ],
 "metadata": {
  "kernelspec": {
   "display_name": "base",
   "language": "python",
   "name": "python3"
  },
  "language_info": {
   "codemirror_mode": {
    "name": "ipython",
    "version": 3
   },
   "file_extension": ".py",
   "mimetype": "text/x-python",
   "name": "python",
   "nbconvert_exporter": "python",
   "pygments_lexer": "ipython3",
   "version": "3.8.8"
  }
 },
 "nbformat": 4,
 "nbformat_minor": 2
}
